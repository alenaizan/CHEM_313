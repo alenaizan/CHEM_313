{
 "cells": [
  {
   "cell_type": "markdown",
   "id": "5354b4db",
   "metadata": {},
   "source": [
    "# Basis Sets\n",
    "\n",
    "As discussed before, in order to convert the Hartree-Fock equations from an integro-differential equation to a more tractable matrix equation, we can expand the Hartree-Fock orbitals in terms of an atomic orbital basis set:\n",
    "\\begin{align}\n",
    "\\psi_i = \\sum_{\\mu=1}^K C_{\\mu i} \\phi_\\mu\n",
    "\\end{align}\n",
    "\n",
    "We encountered this expansion before when we introduced the Slater determinant for the hydrogen molecule H$_2$, for which the molecular orbitals can be written as a linear combination of atomic orbitals centered on each hydrogen atom:\n",
    "\\begin{align}\n",
    "\\psi_1 &= \\frac{1}{\\sqrt{2(1+S_{12})}} \\left ( \\phi_1 + \\phi_2 \\right ) \\quad (\\textrm{Bonding orbital}) \\\\\n",
    "\\psi_2 &= \\frac{1}{\\sqrt{2(1-S_{12})}} \\left (\\phi_1 - \\phi_2 \\right ) \\quad (\\textrm{Antibonding orbital}) \\\\\n",
    "S_{12} &= \\int d\\textbf{r} \\phi_1^*(\\textbf{r}) \\phi_2(\\textbf{r})\n",
    "\\end{align}\n",
    "\n",
    "Here we will discuss the different types of basis sets used in computational chemistry.\n",
    "\n",
    "## What is a Basis Set?\n",
    "Mathematically, a given function can be written as a linear combination of basis functions. The set of basis functions is called a **basis set**. A good analogy is the $\\hat{i}, \\hat{j},$ and $\\hat{k}$ Cartesian unit vectors, which can be used to represent any vector in the three dimensional space. In principle, any type of basis functions can be used to represent the molecular orbitals. In practice, the basis functions need to be numerically efficient and should represent the chemical or physical system well. For example, in solids, extended plane-wave basis sets are typically used. In molecular systems, atomic orbitals, or one-electron orbitals, like those obtained for the hydrogen atom are used to construct molecular orbitals (The **LCAO-MO** approach).\n",
    "\n",
    "The basis set expansion is exact if a **complete basis set** is used to represent the molecular orbitals; that is, an infinite number of basis functions are used. In practice, the basis set expansion is truncated at some order and the results are approximate."
   ]
  },
  {
   "cell_type": "markdown",
   "id": "49d8b0ba",
   "metadata": {},
   "source": [
    "## Slater- and Gaussian-Type Orbitals\n",
    "\n",
    "The wavefunction for the hydrogen atom is given by: $\\psi_{nlm}(r, \\theta, \\phi) = R_{nl}(r) Y_l^m(\\theta, \\phi)$, where $R_{nl}(r)$ represents the radial part, and $Y_l^m(\\theta, \\phi)$ (the spherical harmonics) represents the angular part. As shown before, the radial part involves a polynomial in $r$ multiplied by an exponential term $e^{-\\zeta r}$, where $\\zeta$ is some number. Atomic orbitals that have this form are called **Slater-type orbitals (STO)** and are generally written as:\n",
    "\\begin{align}\n",
    "\\phi_{\\zeta, n, l, m}(r, \\theta, \\phi) = N Y_{l, m}(\\theta, \\phi) r^{n-1} e^{-\\zeta r},\n",
    "\\end{align}\n",
    "where $N$ is a normalization constant. Unlike the hydrogen radial wavefunctions, these orbitals do not have radial nodes. Radial nodes are introduced by taking linear combinations of STOs. These STO orbitals are not generally used in molecular calculations because calculations of three- and four-center two electron integrals cannot be performed analytically. However, these functions are sometimes used in highly accurate atomic or diatomic calculations or in semi-empiricial methods, where these integrals are neglected.\n",
    "\n",
    "In molecular calculations, **Gaussian-type orbitals (GTO)** are generally used:\n",
    "\\begin{align}\n",
    "\\phi_{\\zeta, n, l, m}(r, \\theta, \\phi) &= N Y_{l, m}(\\theta, \\phi) r^{2n-2-l} e^{-\\zeta r^2} \\\\\n",
    "\\phi_{\\zeta, l_x, l_y, l_z}(x, y, z)& = N x^{l_x} y^{l_y} z^{l_z} e^{-\\zeta r^2}.\n",
    "\\end{align}\n",
    "\n",
    "The GTOs are either written in terms of spherical or Cartesian coordinates. The total angular momentum of the orbital is given by: $L = l_x + l_y + l_z$. The spherical and Cartesian functions differ in their number of angular momentum components for $L>2$. For example, a $d-type$ orbital in spherical coordinates has five components: $Y_{2, 2}, Y_{2, 1}, Y_{2, 0}, Y_{2, -1}, Y_{2, -2}$, but in Cartesian coordinates it has six components: $x^2, y^2, z^z, xy, xz, yz$. However, these six components can be transformed to five components and one additional $s$-function ($x^2 + y^2 + z^2$). Similarly, there are ten Cartesian $f$ functions and only seven speherical functions.\n",
    "\n",
    "Why are GTOs preferred? Because the integrals over the basis functions can be performed analytically and because of the Gaussian product theorem, which states that a product of two Gaussians is also a Gaussian.\n",
    "\n",
    "### Differences between Slater- and Gaussian-Type Orbitals\n",
    "There are two main differences between STOs and GTOs because of the use of the $r^2$ exponent:\n",
    "- At the nucleus, STOs have a cusp (discontinuous derivative) while GTOs have a zero sloop.\n",
    "- GTOs decay more rapidly than STOs. The tail of the wavefunction is represented poorly in GTOs.\n",
    "\n",
    "Therefore, to adequately represents atomic orbitals, linear combinations of GTOs are used to represent to the atomic orbitals. This required increase in the number of basis functions for GTOs relative to STOs is more than compensated for by the speedup in integral calculation.\n",
    "\n",
    "### Contracted Gaussian-Type Orbitals and the STO-nG Basis Sets:\n",
    "Atomic orbitals written as a linear combination of GTOs are called **contracted GTO**. The STO-nG basis sets are \"Slater-type orbitals approximated by n Gaussians\". The general form is given by:\n",
    "\\begin{align}\n",
    "\\phi^c_{\\{\\zeta\\}} = \\sum_i c_i \\phi^p_{\\zeta_i}\n",
    "\\end{align}\n",
    "\n",
    "The contracted Gaussian $\\phi^c$ is constructed from a linear combination of **primitive** Gaussians, each with a different exponent $\\zeta$. We will illusrate below the benefit of contraction for $1s$ orbitals."
   ]
  },
  {
   "cell_type": "code",
   "execution_count": 1,
   "id": "8c25021a",
   "metadata": {},
   "outputs": [
    {
     "data": {
      "image/png": "[encoded data removed]",
      "text/plain": [
       "<Figure size 432x288 with 1 Axes>"
      ]
     },
     "metadata": {
      "needs_background": "light"
     },
     "output_type": "display_data"
    }
   ],
   "source": [
    "# This is basically figure 3.3 in Szabo and Ostlund \n",
    "import numpy as np\n",
    "import matplotlib.pyplot as plt\n",
    "\n",
    "def slater(zeta, r):\n",
    "    return (zeta**3/np.pi)**0.5*np.exp(-zeta*np.abs(r))\n",
    "\n",
    "def gaussian(zeta, r):\n",
    "    return (2*zeta/np.pi)**(3.0/4.0)*np.exp(-zeta*np.abs(r**2))\n",
    "\n",
    "def sto_1g(r):\n",
    "    return gaussian(0.270950, r)\n",
    "\n",
    "def sto_2g(r):\n",
    "    return 0.678914*gaussian(0.151623, r) + 0.430129*gaussian(0.851819, r)\n",
    "\n",
    "def sto_3g(r):\n",
    "    return 0.444635*gaussian(0.109818, r) + 0.535328*gaussian(0.405771, r) + 0.154329*gaussian(2.22766, r)\n",
    "\n",
    "plt.figure()\n",
    "\n",
    "r = np.linspace(-4, 4, 500)\n",
    "\n",
    "plt.plot(r, slater(1, r), label=\"Slater\")\n",
    "plt.plot(r, sto_1g(r), label=\"STO-1G\")\n",
    "plt.plot(r, sto_2g(r), label=\"STO-2G\")\n",
    "plt.plot(r, sto_3g(r), label=\"STO-3G\")\n",
    "\n",
    "plt.xlabel(\"Displacement (a.u.)\")\n",
    "plt.ylabel(\"$\\phi_{1s}$\")\n",
    "plt.legend()\n",
    "plt.show()"
   ]
  },
  {
   "cell_type": "markdown",
   "id": "cf245360",
   "metadata": {},
   "source": [
    "Thus, increasing the number of primitive Gaussians improves the shape of the basis function. It is important to note that the contraction coefficients and the exponents are *fixed* during the Hartree-Fock procedure. Various fitting methods can be used to determine the appropriate values for the coefficients and the exponents.\n",
    "\n",
    "### How Does Zeta Affect the Orbital Shape\n",
    "The value of $\\zeta$ determines the decay of the exponential. Large values of $\\zeta$ cause the orbital to decay rapidly, while small values of $\\zeta$ lead to a **diffuse** orbital with an extended tail."
   ]
  },
  {
   "cell_type": "code",
   "execution_count": 2,
   "id": "5788efd3",
   "metadata": {},
   "outputs": [
    {
     "data": {
      "image/png": "[encoded data removed]",
      "text/plain": [
       "<Figure size 432x288 with 1 Axes>"
      ]
     },
     "metadata": {
      "needs_background": "light"
     },
     "output_type": "display_data"
    }
   ],
   "source": [
    "zetas = [10, 1, 0.1]\n",
    "\n",
    "r = np.linspace(0, 4, 100)\n",
    "\n",
    "fig = plt.figure()\n",
    "for z in zetas:\n",
    "    plt.plot(r, gaussian(z, r), label=\"$\\zeta$=%.1f\" %z)\n",
    "    \n",
    "plt.xlabel(\"Distance (a.u.)\")\n",
    "plt.ylabel(\"$\\phi$\")\n",
    "plt.legend()\n",
    "plt.show()"
   ]
  },
  {
   "cell_type": "markdown",
   "id": "204cbff0",
   "metadata": {},
   "source": [
    "## Minimal Basis Sets and the STO-nG Family\n",
    "In a minimal basis set, each atomic orbital is represented by one basis function. All the atomic orbitals for a given  prinicipal quantum number are used even if some orbitals are not occupied (e.g. $p$ orbitals in Li) . Let's take a few example here:\n",
    "\n",
    "|Atom | Minimal Basis functions | Total number |\n",
    "|-----|-------------------------|--------------|\n",
    "|H    | $1s$                    |1             |\n",
    "|He   | $1s$                    |1             |\n",
    "|Li   | $1s$ $2s$ $2p$ (3)      |5             |\n",
    "|Be   | $1s$ $2s$ $2p$ (3)      |5             |\n",
    "|B    | $1s$ $2s$ $2p$ (3)      |5             |\n",
    "|C    | $1s$ $2s$ $2p$ (3)      |5             |\n",
    "|N    | $1s$ $2s$ $2p$ (3)      |5             |\n",
    "|O    | $1s$ $2s$ $2p$ (3)      |5             |\n",
    "|F    | $1s$ $2s$ $2p$ (3)      |5             |\n",
    "|Ne   | $1s$ $2s$ $2p$ (3)      |5             |\n",
    "\n",
    "We will show below the definition of the basis set for hydrogen."
   ]
  },
  {
   "cell_type": "code",
   "execution_count": 3,
   "id": "4afefb1c",
   "metadata": {
    "scrolled": false
   },
   "outputs": [
    {
     "name": "stdout",
     "output_type": "stream",
     "text": [
      "   => Loading Basis Set <=\n",
      "\n",
      "    Name: STO-3G\n",
      "    Role: ORBITAL\n",
      "    Keyword: BASIS\n",
      "    atoms 1 entry H          line    19 file /home/alenaizan/miniconda3/envs/comp_chem/share/psi4/basis/sto-3g.gbs \n",
      "\n",
      "  -AO BASIS SET INFORMATION:\n",
      "    Name                   = STO-3G\n",
      "    Blend                  = STO-3G\n",
      "    Total number of shells = 1\n",
      "    Number of primitives   = 3\n",
      "    Number of AO           = 1\n",
      "    Number of SO           = 1\n",
      "    Maximum AM             = 0\n",
      "    Spherical Harmonics    = TRUE\n",
      "\n",
      "  -Contraction Scheme:\n",
      "    Atom   Type   All Primitives // Shells:\n",
      "   ------ ------ --------------------------\n",
      "       1     H     3s // 1s \n",
      "\n",
      "  ==> AO Basis Functions <==\n",
      "\n",
      "    [ STO-3G ]\n",
      "    spherical\n",
      "    ****\n",
      "    H   1\n",
      "    S   3 1.00\n",
      "                         3.42525091           0.15432897\n",
      "                         0.62391373           0.53532814\n",
      "                         0.16885540           0.44463454\n",
      "    ****\n",
      "\n"
     ]
    }
   ],
   "source": [
    "import psi4\n",
    "\n",
    "mol = psi4.geometry(\"H\")\n",
    "basis = psi4.core.BasisSet.build(mol, 'BASIS', \"sto-3g\")\n",
    "basis.print_detail_out()"
   ]
  },
  {
   "cell_type": "markdown",
   "id": "b0c6db18",
   "metadata": {},
   "source": [
    "We notice a few things here:\n",
    "- Because this is STO-3G, the number of primitives is 3.\n",
    "- The total number of basis functions (contracted Gaussians) is 1 ($1s$ orbital). \n",
    "- The primitive coefficients are 0.15432897, 0.53532814, 0.44463454\n",
    "- The primitive exponents are 3.42525091, 0.62391373, 0.16885540\n",
    "\n",
    "Now, we will do the same thing for Li."
   ]
  },
  {
   "cell_type": "code",
   "execution_count": 4,
   "id": "752fbeb5",
   "metadata": {},
   "outputs": [
    {
     "name": "stdout",
     "output_type": "stream",
     "text": [
      "   => Loading Basis Set <=\n",
      "\n",
      "    Name: STO-3G\n",
      "    Role: ORBITAL\n",
      "    Keyword: BASIS\n",
      "    atoms 1 entry LI         line    31 file /home/alenaizan/miniconda3/envs/comp_chem/share/psi4/basis/sto-3g.gbs \n",
      "\n",
      "  -AO BASIS SET INFORMATION:\n",
      "    Name                   = STO-3G\n",
      "    Blend                  = STO-3G\n",
      "    Total number of shells = 3\n",
      "    Number of primitives   = 9\n",
      "    Number of AO           = 5\n",
      "    Number of SO           = 5\n",
      "    Maximum AM             = 1\n",
      "    Spherical Harmonics    = TRUE\n",
      "\n",
      "  -Contraction Scheme:\n",
      "    Atom   Type   All Primitives // Shells:\n",
      "   ------ ------ --------------------------\n",
      "       1    LI     6s 3p // 2s 1p \n",
      "\n",
      "  ==> AO Basis Functions <==\n",
      "\n",
      "    [ STO-3G ]\n",
      "    spherical\n",
      "    ****\n",
      "   LI   1\n",
      "    S   3 1.00\n",
      "                        16.11957500           0.15432897\n",
      "                         2.93620070           0.53532814\n",
      "                         0.79465050           0.44463454\n",
      "    S   3 1.00\n",
      "                         0.63628970          -0.09996723\n",
      "                         0.14786010           0.39951283\n",
      "                         0.04808870           0.70011547\n",
      "    P   3 1.00\n",
      "                         0.63628970           0.15591627\n",
      "                         0.14786010           0.60768372\n",
      "                         0.04808870           0.39195739\n",
      "    ****\n",
      "\n"
     ]
    }
   ],
   "source": [
    "import psi4\n",
    "\n",
    "mol = psi4.geometry(\"Li\")\n",
    "basis = psi4.core.BasisSet.build(mol, 'BASIS', \"sto-3g\")\n",
    "basis.print_detail_out()"
   ]
  },
  {
   "cell_type": "markdown",
   "id": "7890ed83",
   "metadata": {},
   "source": [
    "We notice a few things here:\n",
    "- Because this is STO-3G, the number of primitives is 3 for each type of the orbitals, so the total is 9.\n",
    "- The total number of basis functions (contracted Gaussians) is 5. \n",
    "- The exponents for the core orbital (1s) are large compared those of the valence orbitals. Core electrons are tightly bound to the nucleus.\n",
    "- For STO-3G, the same orbital exponents are used for the valence $s$ and $p$ orbitals"
   ]
  },
  {
   "cell_type": "markdown",
   "id": "98bb366c",
   "metadata": {},
   "source": [
    "## Shape of the Basis Set\n",
    "Because the basis functions are just the atomic orbitals centered around each atom, the basis function will look similar to the familiar shapes of the orbitals. Let's plot the basis functions for a hydrogen atom in a minimal basis set."
   ]
  },
  {
   "cell_type": "code",
   "execution_count": 5,
   "id": "3d4c3d12",
   "metadata": {},
   "outputs": [],
   "source": [
    "import os\n",
    "import psi4\n",
    "\n",
    "psi4.core.set_output_file(\"output.dat\")\n",
    "if not os.path.exists(\"h_cube_files\"):\n",
    "    os.mkdir(\"h_cube_files\")\n",
    "\n",
    "mol = psi4.geometry(\"\"\"H\"\"\")\n",
    "psi4.set_options({'reference': \"uhf\"})\n",
    "e, wfn = psi4.energy(\"scf/sto-3g\", return_wfn=True)\n",
    "\n",
    "psi4.set_options({\n",
    "    'CUBEPROP_TASKS': [\"BASIS_FUNCTIONS\"],\n",
    "    \"CUBEPROP_FILEPATH\": \"h_cube_files\"\n",
    "})\n",
    "\n",
    "psi4.cubeprop(wfn)"
   ]
  },
  {
   "cell_type": "markdown",
   "id": "b00a92cc",
   "metadata": {},
   "source": [
    "The above script generates a **cube** file that contains the value of the basis functions at a uniform grid around the atom. We can visualize the basis functions using the following script."
   ]
  },
  {
   "cell_type": "code",
   "execution_count": 6,
   "id": "d37f4bdf",
   "metadata": {},
   "outputs": [
    {
     "data": {
      "application/vnd.jupyter.widget-view+json": {
       "model_id": "a4a0286bed914b1490185018b2628dcd",
       "version_major": 2,
       "version_minor": 0
      },
      "text/plain": []
     },
     "metadata": {},
     "output_type": "display_data"
    },
    {
     "data": {
      "application/vnd.jupyter.widget-view+json": {
       "model_id": "2ca6898bd46d4c2b9a0b21cb277b7ea6",
       "version_major": 2,
       "version_minor": 0
      },
      "text/plain": [
       "NGLWidget()"
      ]
     },
     "metadata": {},
     "output_type": "display_data"
    }
   ],
   "source": [
    "import nglview as nv\n",
    "from IPython.display import display\n",
    "\n",
    "view = nv.show_psi4(mol)\n",
    "c1 = view.add_component('h_cube_files/Phi_1.cube')\n",
    "c1.clear()\n",
    "c1.add_surface(color_scheme='volume', isolevelType=\"value\", isolevel =  0.05, color = \"red\" , opacity=0.5)\n",
    "c1.add_surface(color_scheme='volume', isolevelType=\"value\", isolevel = -0.05, color = \"blue\", opacity=0.5)\n",
    "\n",
    "display(view)"
   ]
  },
  {
   "cell_type": "markdown",
   "id": "27f82de6",
   "metadata": {},
   "source": [
    "For a hydrogen atom described by a minimal basis set, there is only one basis function. The basis function is spherically symmetric, just like the $1s$ orbital.\n",
    "\n",
    "Now, we will visualize the basis functions for Li. As mentioned above, there will be five basis functions."
   ]
  },
  {
   "cell_type": "code",
   "execution_count": 7,
   "id": "dae5d7b5",
   "metadata": {},
   "outputs": [],
   "source": [
    "import psi4\n",
    "import os\n",
    "\n",
    "if not os.path.exists(\"li_cube_files\"):\n",
    "    os.mkdir(\"li_cube_files\")\n",
    "\n",
    "mol = psi4.geometry(\"\"\"Li\"\"\")\n",
    "psi4.set_options({'reference': \"uhf\"})\n",
    "e, wfn = psi4.energy(\"scf/sto-3g\", return_wfn=True)\n",
    "\n",
    "psi4.set_options({\n",
    "    'CUBEPROP_TASKS': [\"BASIS_FUNCTIONS\"],\n",
    "    \"CUBIC_GRID_OVERAGE\": [5, 5, 5],\n",
    "    \"CUBEPROP_FILEPATH\": \"li_cube_files\"\n",
    "})\n",
    "\n",
    "psi4.cubeprop(wfn)"
   ]
  },
  {
   "cell_type": "code",
   "execution_count": 8,
   "id": "fa1470a0",
   "metadata": {},
   "outputs": [
    {
     "name": "stdout",
     "output_type": "stream",
     "text": [
      "Basis function 1\n"
     ]
    },
    {
     "data": {
      "application/vnd.jupyter.widget-view+json": {
       "model_id": "a160881eb1cf41f89b42749e8955909c",
       "version_major": 2,
       "version_minor": 0
      },
      "text/plain": [
       "NGLWidget()"
      ]
     },
     "metadata": {},
     "output_type": "display_data"
    },
    {
     "name": "stdout",
     "output_type": "stream",
     "text": [
      "Basis function 2\n"
     ]
    },
    {
     "data": {
      "application/vnd.jupyter.widget-view+json": {
       "model_id": "6cbdb3bf4da04a7392e53384dfab797d",
       "version_major": 2,
       "version_minor": 0
      },
      "text/plain": [
       "NGLWidget()"
      ]
     },
     "metadata": {},
     "output_type": "display_data"
    },
    {
     "name": "stdout",
     "output_type": "stream",
     "text": [
      "Basis function 3\n"
     ]
    },
    {
     "data": {
      "application/vnd.jupyter.widget-view+json": {
       "model_id": "d1a9b2cbe85849cdac843e07473e5afc",
       "version_major": 2,
       "version_minor": 0
      },
      "text/plain": [
       "NGLWidget()"
      ]
     },
     "metadata": {},
     "output_type": "display_data"
    },
    {
     "name": "stdout",
     "output_type": "stream",
     "text": [
      "Basis function 4\n"
     ]
    },
    {
     "data": {
      "application/vnd.jupyter.widget-view+json": {
       "model_id": "8b4f6754872146af941eb411934f2e62",
       "version_major": 2,
       "version_minor": 0
      },
      "text/plain": [
       "NGLWidget()"
      ]
     },
     "metadata": {},
     "output_type": "display_data"
    },
    {
     "name": "stdout",
     "output_type": "stream",
     "text": [
      "Basis function 5\n"
     ]
    },
    {
     "data": {
      "application/vnd.jupyter.widget-view+json": {
       "model_id": "84aef8f8ce004b5ca55c8844358d869c",
       "version_major": 2,
       "version_minor": 0
      },
      "text/plain": [
       "NGLWidget()"
      ]
     },
     "metadata": {},
     "output_type": "display_data"
    }
   ],
   "source": [
    "import nglview as nv\n",
    "from IPython.display import display\n",
    "\n",
    "for i in range(1, 6):\n",
    "    print(\"Basis function %i\" %i)\n",
    "    view = nv.show_psi4(mol)\n",
    "    c1 = view.add_component('li_cube_files/Phi_%i.cube' %i)\n",
    "    c1.clear()\n",
    "    c1.add_surface(color_scheme='volume', isolevelType=\"value\", isolevel =  0.05, color = \"red\" , opacity=0.5)\n",
    "    c1.add_surface(color_scheme='volume', isolevelType=\"value\", isolevel = -0.05, color = \"blue\", opacity=0.5)\n",
    "    \n",
    "    display(view)"
   ]
  },
  {
   "cell_type": "markdown",
   "id": "f3707f87",
   "metadata": {},
   "source": [
    "For molecules, each atom will have an associated set of basis functions. For example, N$_2$ described using a minimal basis set will have ten basis functions, five on each atom. Let's draw now the basis functions for N$_2$."
   ]
  },
  {
   "cell_type": "code",
   "execution_count": 9,
   "id": "cf69089f",
   "metadata": {},
   "outputs": [],
   "source": [
    "import psi4\n",
    "import os\n",
    "\n",
    "if not os.path.exists(\"n2_cube_files\"):\n",
    "    os.mkdir(\"n2_cube_files\")\n",
    "\n",
    "mol = psi4.geometry(\"\"\"N 0 0 -0.5488\n",
    "N 0 0 0.5488\n",
    "\"\"\")\n",
    "psi4.set_options({'reference': \"rhf\"})\n",
    "e, wfn = psi4.energy(\"scf/sto-3g\", return_wfn=True)\n",
    "\n",
    "psi4.set_options({\n",
    "    'CUBEPROP_TASKS': [\"BASIS_FUNCTIONS\"],\n",
    "    \"CUBIC_GRID_OVERAGE\": [5, 5, 5],\n",
    "    \"CUBEPROP_FILEPATH\": \"n2_cube_files\"\n",
    "})\n",
    "\n",
    "psi4.cubeprop(wfn)"
   ]
  },
  {
   "cell_type": "code",
   "execution_count": 10,
   "id": "b669ac2f",
   "metadata": {
    "scrolled": false
   },
   "outputs": [
    {
     "name": "stdout",
     "output_type": "stream",
     "text": [
      "Basis function 1\n"
     ]
    },
    {
     "data": {
      "application/vnd.jupyter.widget-view+json": {
       "model_id": "96447863b3524ece9ae60d32f7e8ac22",
       "version_major": 2,
       "version_minor": 0
      },
      "text/plain": [
       "NGLWidget()"
      ]
     },
     "metadata": {},
     "output_type": "display_data"
    },
    {
     "name": "stdout",
     "output_type": "stream",
     "text": [
      "Basis function 2\n"
     ]
    },
    {
     "data": {
      "application/vnd.jupyter.widget-view+json": {
       "model_id": "14de0302c0bc47fc8c3502c13c5e63a7",
       "version_major": 2,
       "version_minor": 0
      },
      "text/plain": [
       "NGLWidget()"
      ]
     },
     "metadata": {},
     "output_type": "display_data"
    },
    {
     "name": "stdout",
     "output_type": "stream",
     "text": [
      "Basis function 3\n"
     ]
    },
    {
     "data": {
      "application/vnd.jupyter.widget-view+json": {
       "model_id": "a4aaf18351354c72be20a5b1b5d31dda",
       "version_major": 2,
       "version_minor": 0
      },
      "text/plain": [
       "NGLWidget()"
      ]
     },
     "metadata": {},
     "output_type": "display_data"
    },
    {
     "name": "stdout",
     "output_type": "stream",
     "text": [
      "Basis function 4\n"
     ]
    },
    {
     "data": {
      "application/vnd.jupyter.widget-view+json": {
       "model_id": "efed1a80abb94882b296069456b1eab3",
       "version_major": 2,
       "version_minor": 0
      },
      "text/plain": [
       "NGLWidget()"
      ]
     },
     "metadata": {},
     "output_type": "display_data"
    },
    {
     "name": "stdout",
     "output_type": "stream",
     "text": [
      "Basis function 5\n"
     ]
    },
    {
     "data": {
      "application/vnd.jupyter.widget-view+json": {
       "model_id": "1d79f965f57b41ca856037a10787870f",
       "version_major": 2,
       "version_minor": 0
      },
      "text/plain": [
       "NGLWidget()"
      ]
     },
     "metadata": {},
     "output_type": "display_data"
    },
    {
     "name": "stdout",
     "output_type": "stream",
     "text": [
      "Basis function 6\n"
     ]
    },
    {
     "data": {
      "application/vnd.jupyter.widget-view+json": {
       "model_id": "ba6500b6a17c4926bdf794bd35eb3aea",
       "version_major": 2,
       "version_minor": 0
      },
      "text/plain": [
       "NGLWidget()"
      ]
     },
     "metadata": {},
     "output_type": "display_data"
    },
    {
     "name": "stdout",
     "output_type": "stream",
     "text": [
      "Basis function 7\n"
     ]
    },
    {
     "data": {
      "application/vnd.jupyter.widget-view+json": {
       "model_id": "87841414e5d44cea82881fa705bd06e0",
       "version_major": 2,
       "version_minor": 0
      },
      "text/plain": [
       "NGLWidget()"
      ]
     },
     "metadata": {},
     "output_type": "display_data"
    },
    {
     "name": "stdout",
     "output_type": "stream",
     "text": [
      "Basis function 8\n"
     ]
    },
    {
     "data": {
      "application/vnd.jupyter.widget-view+json": {
       "model_id": "273f6230871e4114883cc45d7011d717",
       "version_major": 2,
       "version_minor": 0
      },
      "text/plain": [
       "NGLWidget()"
      ]
     },
     "metadata": {},
     "output_type": "display_data"
    },
    {
     "name": "stdout",
     "output_type": "stream",
     "text": [
      "Basis function 9\n"
     ]
    },
    {
     "data": {
      "application/vnd.jupyter.widget-view+json": {
       "model_id": "0123bf8488594d4680e399b9894d36c8",
       "version_major": 2,
       "version_minor": 0
      },
      "text/plain": [
       "NGLWidget()"
      ]
     },
     "metadata": {},
     "output_type": "display_data"
    },
    {
     "name": "stdout",
     "output_type": "stream",
     "text": [
      "Basis function 10\n"
     ]
    },
    {
     "data": {
      "application/vnd.jupyter.widget-view+json": {
       "model_id": "84acd34803e64ea586d1540422e0fbe9",
       "version_major": 2,
       "version_minor": 0
      },
      "text/plain": [
       "NGLWidget()"
      ]
     },
     "metadata": {},
     "output_type": "display_data"
    }
   ],
   "source": [
    "import nglview as nv\n",
    "from IPython.display import display\n",
    "\n",
    "for i in range(1, 11):\n",
    "    print(\"Basis function %i\" %i)\n",
    "    view = nv.show_psi4(mol)\n",
    "    c1 = view.add_component('n2_cube_files/Phi_%i.cube' %i)\n",
    "    c1.clear()\n",
    "    c1.add_surface(color_scheme='volume', isolevelType=\"value\", isolevel =  0.05, color = \"red\" , opacity=0.5)\n",
    "    c1.add_surface(color_scheme='volume', isolevelType=\"value\", isolevel = -0.05, color = \"blue\", opacity=0.5)\n",
    "    \n",
    "    display(view)"
   ]
  },
  {
   "cell_type": "markdown",
   "id": "e51797c1",
   "metadata": {},
   "source": [
    "## Double-, Triple-, ..., Zeta Basis Set\n",
    "A minimal basis set, which has one basis function for each atomic orbital, is too small and cannot describe the flexibility of the electron. We can increase the size of the basis set systematically to generate the following ladder of basis set sizes:\n",
    "- Double-zeta (DZ): Two basis functions for each atomic orbital.\n",
    "- Triple-zeta (TZ): Three basis functions for each atomic orbital.\n",
    "- Quadruble-zeta (QZ): 4 basis functions for each atomic orbital.\n",
    "- N-zeta (NZ): N basis functions for each atomic orbital.\n",
    "\n",
    "In practical calculations, at least a double-zeta basis set quality is required for accurate calculations. Calculations using large basis sets ($\\ge$QZ) are only affordable for systems with a small number of electrons. Remeber that Hartree-Fock theory scales as $N^4$ where $N$ is the total number of basis functions. Post-Hartree-Fock methods are even more expensive."
   ]
  },
  {
   "cell_type": "markdown",
   "id": "60c6ec76",
   "metadata": {},
   "source": [
    "## Split-Valence Basis Sets\n",
    "Because of the large scaling of *ab initio* methods, it is profitable to decrease the total number of basis functions when possible while maintaining the accuracy. Because chemical properties are largely determined by the valence orbitals, it is reasonable to give the valence electrons more flexibilty compared to core electrons by increasing the number of valence basis functions. Furthermore, core electrons are tightly bound to the nucleus and will experience limited interaction with the molecular environment. This reasoning led to the development of **split-valnece basis sets**\n",
    "\n",
    "In a split valence basis set, each core atomic orbital will be represented by only *one* basis function. The valence electrons will be represented by two or more basis functions depending on the size of the basis set."
   ]
  },
  {
   "cell_type": "markdown",
   "id": "6d535391",
   "metadata": {},
   "source": [
    "### Example:\n",
    "The following table lists the number of basis functions for hydrogen and second raw elements for different kinds of basis sets:\n",
    "\n",
    "|Basis Set Type            | Hydrogen| Second Raw           |\n",
    "|--------------------------|---------|----------------------|\n",
    "|Minimal                   |1 ($1s$) |5 ($1s$ $2s$ $2p$ (3))|\n",
    "|Double-zeta               |2        |10                    |\n",
    "|Triple-zeta               |3        |15                    |\n",
    "|Split-valence double zeta |2        |9                     |\n",
    "|Split-valence triple zeta |2        |13                    |\n"
   ]
  },
  {
   "cell_type": "markdown",
   "id": "7c775177",
   "metadata": {},
   "source": [
    "## Pople Basis Sets\n",
    "John Pople developed a family of basis sets with increasing size besides the minimal STO-3G basis set. The general name for the basis set is \"$k$-$nlm$G\". These are split-valence basis sets. $k$ is the number of primitive basis functions used to represent the core orbitals. If two numbers are present after the dash ($n$ and $l$), then this is a double zeta basis set; and if three numbers are present then this is a triple zeta basis set. $n$, $l$, and $m$ indicates how many primitive Gaussians are used to build the basis functions.\n",
    "\n",
    "Examples:\n",
    "- 3-21G: The core oritals are a contraction of three primitives. Two sets of valence orbitals are used, one is a contraction of two primitives and one is a single Gaussian.\n",
    "- 6-31G: The core oritals are a contraction of six primitives. Two sets of valence orbitals are used, one is a contraction of 3 primitives and one is a single Gaussian.\n",
    "- 6-311G: The core oritals are a contraction of six primitives. Three sets of valence orbitals are used, one is a contraction of 3 primitives, one is a single Gaussian, and the third is also a single Gaussian.\n",
    "\n",
    "Below we show the definition of the 6-31G basis set for Li. "
   ]
  },
  {
   "cell_type": "code",
   "execution_count": 11,
   "id": "b1334061",
   "metadata": {},
   "outputs": [],
   "source": [
    "import psi4\n",
    "\n",
    "mol = psi4.geometry(\"Li\")\n",
    "basis = psi4.core.BasisSet.build(mol, 'BASIS', \"6-31g\")\n",
    "basis.print_detail_out()"
   ]
  },
  {
   "cell_type": "markdown",
   "id": "363f2bd8",
   "metadata": {},
   "source": [
    "## Polarization Functions\n",
    "It is not sufficient to increase the number of primitive Gaussians or the number of valence orbitals in order to improve the basis set and approach the basis set limit. Increasing the angular momentum of the basis set is necessary to add angular flexibility of the basis set.\n",
    "\n",
    "For example, consider the formation of an H$_2$ molecule. Each hydrogen atom will contribute a spherically symmetric $1s$ orbital. The $1s$ orbitals in the two hydrogen atoms interfere constructively to form a bonding molecular orbital. However, the electron density of the H$_2$ molecule is not spherically symmetric. The $s$ orbitals are not sufficient to describe the *polarization* of the electron density because of the approach of two atoms. One solution is introduce $p$ orbitals that can mix with the $s$ orbitals in order to describe the shape of the electron density more accurately.\n",
    "\n",
    "More generally, a basis function wuth angular momentum $l$ is polarized by mixing it with a basis function of angular momentum $l+1$. This gives new types of basis sets called \"polarized double-zeta\", \"polarized triple-zeta\", etc.\n",
    "\n",
    "For Pople basis sets, polarization is indicated by \"\\*\" or by letters in parenthesis. The latter scheme is preferable because it is more explicit. Polarization functions can be added to heavy (non-hydrogen) atoms only or also to hydrogen atom. We list below some polarized Pople basis sets:\n",
    "- 6-31G* or 6-31G(d): 6-31G with added $d$ polarization on heavy atoms.\n",
    "- 6-31G** or 6-31G(d, p): 6-31G* with added $p$ polarization on hydrogen atoms.\n",
    "- 6-311G(2df, 2pd): 6-311G with added two sets of $d$ functions and one set of $f$ functions for heavy atoms, and two sets of $p$ orbitals and one set of $d$ orbitals for hydrogen atoms.\n",
    "\n",
    "Below we show the definition of the 6-31G(d) for Li."
   ]
  },
  {
   "cell_type": "code",
   "execution_count": 12,
   "id": "8f05b838",
   "metadata": {},
   "outputs": [],
   "source": [
    "import psi4\n",
    "\n",
    "mol = psi4.geometry(\"Li\")\n",
    "basis = psi4.core.BasisSet.build(mol, 'BASIS', \"6-31g(d)\")\n",
    "basis.print_detail_out()"
   ]
  },
  {
   "cell_type": "markdown",
   "id": "249a088c",
   "metadata": {},
   "source": [
    "## Diffuse Functions\n",
    "\n",
    "For anions, excited electronic states, and weakly bound complexes, the tails of the electron density need to be described properly. This can be achieved by \"augmenting\" the basis set with **diffuse functions**. As mentioned above, diffuse functions have small $\\zeta$ values that allow the Gaussians to decay slowly with distance.\n",
    "\n",
    "In Pople basis sets, diffuse functions are indicated by \"+\". One \"+\" indicates that diffuse functions are added to heavy atoms only. \"++\" indicates that diffuse functions are also added to hydrogen atoms.\n",
    "\n",
    "Examples:\n",
    "- 6-31+G(d): 6-31G(d) with added diffuse functions on heavy atoms.\n",
    "- 6-31++G(d): 6-31G(d) with added diffuse functions on heavy atoms and hydrogen atoms."
   ]
  },
  {
   "cell_type": "code",
   "execution_count": 13,
   "id": "d8e7be6b",
   "metadata": {},
   "outputs": [],
   "source": [
    "import psi4\n",
    "\n",
    "mol = psi4.geometry(\"Li\")\n",
    "basis = psi4.core.BasisSet.build(mol, 'BASIS', \"6-31+g(d)\")\n",
    "basis.print_detail_out()"
   ]
  },
  {
   "cell_type": "markdown",
   "id": "a573f54f",
   "metadata": {},
   "source": [
    "## Dunning's Correlation-Consistent Basis Sets\n",
    "Basis sets optimized at the Hartree-Fock level may not be appropriate for correlated post-Hartree-Fock calculations.\n",
    "Therefore, Thom Dunning developed a family of basis sets optimized using correlated (CISD) calculations. These basis sets are denoted \"cc-pVXZ\":\n",
    "- cc: correlation-consistent\n",
    "- p: polarized\n",
    "- V: split-valence\n",
    "- XZ: X-zeta; X=D, T, Q, 5, et.\n",
    "\n",
    "\"Correlation-consistent\" means that the basis sets are designed such that functions that contribute similar amounts of correlation energy are included together, regardless of the function type. For example, polarization functions are added in the order: $1d$, $2d1f$, $3d2f1g$. These Dunning's basis set are designed to converge systematically to the basis set limit. The table below lists the basis functions used for hydrogen and second-raw elements:\n",
    "\n",
    "|Basis   | Hydrogen    | Second Raw    |\n",
    "|--------|-------------|---------------|\n",
    "|cc-pVDZ |$$2s1p$$     |$$3s2p1d$$     |\n",
    "|cc-pVTZ |$$3s2p1d$$   |$$4s3p2d1f$$   |\n",
    "|cc-pVQZ |$$4s3p2d1f$$ |$$5s4p3d2f1g$$ |\n",
    "\n",
    "The Dunning's basis set can also be *augmented* with diffuse functions. Augmented basis sets are denoted \"aug-cc-pVXZ\". Augmentation adds one function with a smaller exponent for each angular momentum. Cheaper versions of the augmented basis sets are the *calendar* basis sets of Truhlar, which add fewer diffuse functions. For example, the jul-cc-pVXZ basis set removes diffuse functions on hydrogens. The jun-cc-pVXZ removes diffuse functions on hydrogen and the highest angular momentum subshell from heavy atoms. For third raw systems, additional tight $d$-functions were added to improve the accuracy; the basis sets are denoted \"cc-pV(X+d)Z\".\n",
    "\n",
    "In post-Hartree-Fock calculations, often only the valence electrons are correlated and the core electrons are *frozen*. If the correlation of core electrons is needed, the cc-pVXZ basis sets are not approporiate. For that purpose, the cc-pCVXZ family has additional tight basis functions (large $\\zeta$ exponent). These basis sets are designed to recover core-core and core-valence electron correlation. The cc-pwCVXZ basis sets focus on the more chemical relavent core-valence electron correlation."
   ]
  },
  {
   "cell_type": "code",
   "execution_count": 14,
   "id": "53b036ac",
   "metadata": {
    "scrolled": false
   },
   "outputs": [],
   "source": [
    "import psi4\n",
    "\n",
    "mol = psi4.geometry(\"Li\")\n",
    "basis = psi4.core.BasisSet.build(mol, 'BASIS', \"cc-pvdz\")\n",
    "basis.print_detail_out()"
   ]
  },
  {
   "cell_type": "markdown",
   "id": "3e3590ea",
   "metadata": {},
   "source": [
    "## The Complete Basis Set Limit\n",
    "\n",
    "Calculations with a finite basis set are inherently approximate. There are two approaches to deal with this problem:\n",
    "- Perform calculations using increasingly larger basis sets and estimate the basis set limit.\n",
    "- Balance the error in the method (e.g. Hartree-Fock) with the error in the basis set. \n",
    "\n",
    "The second approach requires extensive benchmarking and validation in order to determine the appropriate basis set for a given level of theory and for a particular quantity of interest. However, it is more afforable for systems with a large number of electrons, where it is difficult to use large basis sets.\n",
    "\n",
    "We will illustrate here the convergence to the basis set limit for H$_2$ calculated at the Hartree-Fock theory. The Hartree-Fock energy computed at the basis set limit is called the **Hartree-Fock limit**. "
   ]
  },
  {
   "cell_type": "code",
   "execution_count": 15,
   "id": "41abf0dc",
   "metadata": {},
   "outputs": [
    {
     "name": "stdout",
     "output_type": "stream",
     "text": [
      "Zeta        # Basis functions       Energy (Hartree)\n",
      "1           2                       -1.116759       \n",
      "2           10                      -1.128700       \n",
      "3           28                      -1.132968       \n",
      "4           60                      -1.133467       \n",
      "5           110                     -1.133616       \n",
      "6           182                     -1.133634       \n"
     ]
    },
    {
     "data": {
      "image/png": "[encoded data removed]",
      "text/plain": [
       "<Figure size 432x288 with 1 Axes>"
      ]
     },
     "metadata": {
      "needs_background": "light"
     },
     "output_type": "display_data"
    }
   ],
   "source": [
    "import psi4\n",
    "import matplotlib.pyplot as plt\n",
    "\n",
    "psi4.core.set_output_file('output.dat', True)\n",
    "\n",
    "psi4.set_options({\"scf_type\": \"pk\", \"reference\": \"rhf\"})\n",
    "\n",
    "mol = psi4.geometry(\"\"\"0 1\n",
    "H\n",
    "H 1 0.74\n",
    "\"\"\")\n",
    "\n",
    "basis_sets = [\"sto-3g\", \"cc-pvdz\", \"cc-pvtz\", \"cc-pvqz\", \"cc-pv5z\", \"cc-pv6z\"]\n",
    "\n",
    "energies = []\n",
    "print(\"%-12s%-24s%-16s\" %(\"Zeta\", \"# Basis functions\", \"Energy (Hartree)\"))\n",
    "for i, basis in enumerate(basis_sets):\n",
    "    e, wfn = psi4.energy(\"scf/\" + basis, return_wfn=True)\n",
    "    energies.append(e)\n",
    "    \n",
    "    basisset_object = wfn.basisset()\n",
    "    nbf = basisset_object.nbf()\n",
    "    \n",
    "    print(\"%-12i%-24i%-16.6f\" %(i + 1, nbf, e))\n",
    "    \n",
    "\n",
    "zeta = range(1, 7)\n",
    "\n",
    "plt.figure()\n",
    "plt.plot(zeta, energies, \"-o\")\n",
    "plt.xlabel(\"Zeta\")\n",
    "plt.ylabel(\"Energy (Hartree)\")\n",
    "\n",
    "plt.show()"
   ]
  },
  {
   "cell_type": "markdown",
   "id": "5135e303",
   "metadata": {},
   "source": [
    "In practice, it is generally not affordable to use a very large basis set to reach the basis set limit. The basis set limit is often obtained by extrapolating the energies calculated using two different basis sets (e.g. cc-pVTZ and cc-PVQZ) using various formula. One additional difficulty in obtaining converged results is the rate of convergence of the energy for a given method. Hartree-Fock and density functional theory energies converge faster than the correlation energy does in post-Hartree-Fock methods. One solution to this challenge is the development of basis sets that converge faster for correlated method. cc-pVXZ-F12 is one such family of basis sets that incorporate basis functions that depend on the inter-electronic distance."
   ]
  },
  {
   "cell_type": "code",
   "execution_count": 16,
   "id": "9c3a8803",
   "metadata": {},
   "outputs": [
    {
     "data": {
      "text/plain": [
       "-1.1335886277991039"
      ]
     },
     "execution_count": 16,
     "metadata": {},
     "output_type": "execute_result"
    }
   ],
   "source": [
    "# Extrapolation to the complete basis set limit can be done automatically in psi4\n",
    "psi4.energy(\"scf/cc-pv[tq]z\")"
   ]
  },
  {
   "cell_type": "markdown",
   "id": "f0b0c335",
   "metadata": {},
   "source": [
    "# Hartree-Fock Molecular Orbitals\n",
    "\n",
    "In Hartree-Fock theory, a basis set is introduced to faciliate solving the Hartree-Fock equation. The molecular orbitals (MO) $\\psi$ are written as a linear combination of atomic orbitals (AO) $\\phi$ (The **LCAO-MO** approach), where the following expansion is used: \n",
    "\n",
    "\\begin{align}\n",
    "\\psi_i = \\sum_{\\mu=1}^K C_{\\mu i} \\phi_\\mu\n",
    "\\end{align}\n",
    "\n",
    "The Hartree-Fock-Roothan equation given by:\n",
    "\\begin{align}\n",
    "\\textbf{FC} &=\\textbf{SC} \\epsilon,\n",
    "\\end{align}\n",
    "\n",
    "is then solved self-consistently and the optimum values of the expansion coefficients $C$ (those that minimize the energy) are determined. The molecular orbitals that are formed using these optimum expansion coefficients are called the **canonical molecular orbitals**. The number of molecular orbitals is equal to the number of atomic orbitals. How do these orbitals look like? We will show the canonial orbitals for H$_2$ calculated using a minimal basis set, where only $1s$ functions are present for hydrogen."
   ]
  },
  {
   "cell_type": "code",
   "execution_count": 17,
   "id": "f344661b",
   "metadata": {
    "scrolled": false
   },
   "outputs": [
    {
     "name": "stdout",
     "output_type": "stream",
     "text": [
      "Hydrogen Molecule\n"
     ]
    },
    {
     "data": {
      "application/vnd.jupyter.widget-view+json": {
       "model_id": "ae362b6cdbd441908c0057def14e04e9",
       "version_major": 2,
       "version_minor": 0
      },
      "text/plain": [
       "NGLWidget()"
      ]
     },
     "metadata": {},
     "output_type": "display_data"
    },
    {
     "name": "stdout",
     "output_type": "stream",
     "text": [
      "Basis function 1\n"
     ]
    },
    {
     "data": {
      "application/vnd.jupyter.widget-view+json": {
       "model_id": "5bd642c55e71481487da4c1220706d49",
       "version_major": 2,
       "version_minor": 0
      },
      "text/plain": [
       "NGLWidget()"
      ]
     },
     "metadata": {},
     "output_type": "display_data"
    },
    {
     "name": "stdout",
     "output_type": "stream",
     "text": [
      "Basis function 2\n"
     ]
    },
    {
     "data": {
      "application/vnd.jupyter.widget-view+json": {
       "model_id": "bc560e8410db41c794f6ec39536d097c",
       "version_major": 2,
       "version_minor": 0
      },
      "text/plain": [
       "NGLWidget()"
      ]
     },
     "metadata": {},
     "output_type": "display_data"
    },
    {
     "name": "stdout",
     "output_type": "stream",
     "text": [
      "Molecular Orbital 1: Bonding Orbital\n"
     ]
    },
    {
     "data": {
      "application/vnd.jupyter.widget-view+json": {
       "model_id": "a9e0fa098d984e4fbe8492d070df9c3a",
       "version_major": 2,
       "version_minor": 0
      },
      "text/plain": [
       "NGLWidget()"
      ]
     },
     "metadata": {},
     "output_type": "display_data"
    },
    {
     "name": "stdout",
     "output_type": "stream",
     "text": [
      "Molecular Orbital 2: Antibonding Orbital\n"
     ]
    },
    {
     "data": {
      "application/vnd.jupyter.widget-view+json": {
       "model_id": "b33f0d0337cb443a82dddeac11c0d285",
       "version_major": 2,
       "version_minor": 0
      },
      "text/plain": [
       "NGLWidget()"
      ]
     },
     "metadata": {},
     "output_type": "display_data"
    }
   ],
   "source": [
    "import psi4\n",
    "import os\n",
    "import nglview as nv\n",
    "from IPython.display import display\n",
    "\n",
    "if not os.path.exists(\"h2_cube_files\"):\n",
    "    os.mkdir(\"h2_cube_files\")\n",
    "\n",
    "psi4.core.set_output_file(\"output.dat\", True)\n",
    "mol = psi4.geometry(\"\"\"0 1\n",
    "H\n",
    "H 1 0.74\n",
    "\"\"\")\n",
    "\n",
    "e, wfn = psi4.energy(\"scf/sto-3g\", return_wfn=True)\n",
    "\n",
    "psi4.set_options({\n",
    "    'CUBEPROP_TASKS': [\"ORBITALS\", \"BASIS_FUNCTIONS\"],\n",
    "    \"CUBEPROP_FILEPATH\": \"h2_cube_files\"\n",
    "})\n",
    "\n",
    "psi4.cubeprop(wfn)\n",
    "\n",
    "print(\"Hydrogen Molecule\")\n",
    "view = nv.show_psi4(mol)\n",
    "display(view)\n",
    "\n",
    "print(\"Basis function 1\")\n",
    "view = nv.show_psi4(mol)\n",
    "c1 = view.add_component('h2_cube_files/Phi_1.cube')\n",
    "c1.clear()\n",
    "c1.add_surface(color_scheme='volume', isolevelType=\"value\", isolevel = 0.05 , color = \"red\" , opacity=0.5)\n",
    "c1.add_surface(color_scheme='volume', isolevelType=\"value\", isolevel = -0.05, color = \"blue\", opacity=0.5)\n",
    "\n",
    "display(view)\n",
    "\n",
    "print(\"Basis function 2\")\n",
    "view = nv.show_psi4(mol)\n",
    "c1 = view.add_component('h2_cube_files/Phi_2.cube')\n",
    "c1.clear()\n",
    "c1.add_surface(color_scheme='volume', isolevelType=\"value\", isolevel = 0.05 , color = \"red\" , opacity=0.5)\n",
    "c1.add_surface(color_scheme='volume', isolevelType=\"value\", isolevel = -0.05, color = \"blue\", opacity=0.5)\n",
    "\n",
    "display(view)\n",
    "\n",
    "print(\"Molecular Orbital 1: Bonding Orbital\")\n",
    "view = nv.show_psi4(mol)\n",
    "c1 = view.add_component('h2_cube_files/Psi_a_1_1-Ag.cube')\n",
    "c1.clear()\n",
    "c1.add_surface(color_scheme='volume', isolevelType=\"value\", isolevel = 0.05 , color = \"red\" , opacity=0.5)\n",
    "c1.add_surface(color_scheme='volume', isolevelType=\"value\", isolevel = -0.05, color = \"blue\", opacity=0.5)\n",
    "\n",
    "display(view)\n",
    "\n",
    "print(\"Molecular Orbital 2: Antibonding Orbital\")\n",
    "view = nv.show_psi4(mol)\n",
    "c1 = view.add_component('h2_cube_files/Psi_a_2_1-B1u.cube')\n",
    "c1.clear()\n",
    "c1.add_surface(color_scheme='volume', isolevelType=\"value\", isolevel = 0.05 , color = \"yellow\", opacity=0.5)\n",
    "c1.add_surface(color_scheme='volume', isolevelType=\"value\", isolevel = -0.05, color = \"green\" , opacity=0.5)\n",
    "\n",
    "display(view)"
   ]
  },
  {
   "cell_type": "markdown",
   "id": "921f7c7d",
   "metadata": {},
   "source": [
    "Now let's calculate the molecular orbitals for water. For water in a minimal basis set, there are seven basis functions."
   ]
  },
  {
   "cell_type": "code",
   "execution_count": 18,
   "id": "12c85c2c",
   "metadata": {},
   "outputs": [
    {
     "name": "stdout",
     "output_type": "stream",
     "text": [
      "Basis Functions\n"
     ]
    },
    {
     "data": {
      "application/vnd.jupyter.widget-view+json": {
       "model_id": "4c5088ed65fc420785858c2c3013822c",
       "version_major": 2,
       "version_minor": 0
      },
      "text/plain": [
       "interactive(children=(IntSlider(value=1, description='n', max=7, min=1), Output()), _dom_classes=('widget-inte…"
      ]
     },
     "metadata": {},
     "output_type": "display_data"
    },
    {
     "data": {
      "application/vnd.jupyter.widget-view+json": {
       "model_id": "befce0954daf4cbd86e2e6167054ccff",
       "version_major": 2,
       "version_minor": 0
      },
      "text/plain": [
       "interactive(children=(IntSlider(value=0, description='n', max=6), Output()), _dom_classes=('widget-interact',)…"
      ]
     },
     "metadata": {},
     "output_type": "display_data"
    }
   ],
   "source": [
    "import psi4\n",
    "import os\n",
    "import nglview as nv\n",
    "from IPython.display import display\n",
    "import ipywidgets as widgets\n",
    "import glob\n",
    "\n",
    "if not os.path.exists(\"h2o_cube_files\"):\n",
    "    os.mkdir(\"h2o_cube_files\")\n",
    "\n",
    "psi4.core.set_output_file('output.dat', True)\n",
    "\n",
    "mol = psi4.geometry(\"\"\"0 1\n",
    "H\n",
    "O 1 r\n",
    "H 2 r 1 a\n",
    "\n",
    "r = 1.08\n",
    "a = 107.5      \n",
    "\"\"\")\n",
    "\n",
    "e, wfn = psi4.energy(\"scf/sto-3g\", return_wfn=True)\n",
    "nocc_mo = wfn.nalpha()\n",
    "\n",
    "psi4.set_options({\n",
    "    'CUBEPROP_TASKS': [\"ORBITALS\", \"BASIS_FUNCTIONS\"],\n",
    "    \"CUBEPROP_FILEPATH\": \"h2o_cube_files\"\n",
    "})\n",
    "\n",
    "psi4.cubeprop(wfn)\n",
    "\n",
    "def view_basis_fuction(n):\n",
    "    view = nv.show_psi4(mol)\n",
    "    c1 = view.add_component('h2o_cube_files/Phi_%i.cube' %n)\n",
    "    c1.clear()\n",
    "    c1.add_surface(color_scheme='volume', isolevelType=\"value\", isolevel = 0.05 , color = \"red\" , opacity=0.5)\n",
    "    c1.add_surface(color_scheme='volume', isolevelType=\"value\", isolevel = -0.05, color = \"blue\", opacity=0.5)\n",
    "    display(view)\n",
    "\n",
    "print(\"Basis Functions\")\n",
    "display(widgets.interactive(view_basis_fuction, n=widgets.IntSlider(min=1, max=7, step=1)))\n",
    "\n",
    "MO_names = [f.split(\"/\")[1] for f in sorted(glob.glob(\"h2o_cube_files/Psi_a*cube\"))]\n",
    "def view_MOs(n):\n",
    "    view = nv.show_psi4(mol)\n",
    "    mo = MO_names[n]\n",
    "    print(mo)\n",
    "    c1 = view.add_component(\"h2o_cube_files/\" + mo)\n",
    "    c1.clear()\n",
    "    \n",
    "    # Color the occupied and virtual orbitals differently\n",
    "    if n < nocc_mo:\n",
    "        c1.add_surface(color_scheme='volume', isolevelType=\"value\", isolevel = 0.05 , color = \"red\" , opacity=0.5)\n",
    "        c1.add_surface(color_scheme='volume', isolevelType=\"value\", isolevel = -0.05, color = \"blue\", opacity=0.5)\n",
    "        \n",
    "    else:\n",
    "        c1.add_surface(color_scheme='volume', isolevelType=\"value\", isolevel = 0.05 , color = \"yellow\", opacity=0.5)\n",
    "        c1.add_surface(color_scheme='volume', isolevelType=\"value\", isolevel = -0.05, color = \"green\" , opacity=0.5)\n",
    "    \n",
    "    display(view)\n",
    "\n",
    "display(widgets.interactive(view_MOs, n=widgets.IntSlider(min=0, max=len(MO_names)-1, step=1)))"
   ]
  },
  {
   "cell_type": "markdown",
   "id": "6cf8bdce",
   "metadata": {},
   "source": [
    "## Useful Resources\n",
    "\n",
    "- Szabo, A.; Ostlund, N. S. *Modern Quantum Chemistry: Introduction to Advanced Electronic Structure Theory*; Dover Publications: Mineola, NY, 1996. (Sections 3.5.1 and 3.6)   \n",
    "- Cramer, C. J. *Essentials of Computational Chemistry: Theories and Models*, 2nd ed.; John Wiley & Sons: Chichester, England, 2004. (Section 6.2)  \n",
    "- Jensen, F. *Introduction to Computational Chemistry*, 3rd ed.; John Wiley & Sons: Nashville, TN, 2017. (Chapter 5)\n",
    "- Sherrill's notes: http://vergil.chemistry.gatech.edu/courses/chem6485/pdf/basis-sets.pdf"
   ]
  }
 ],
 "metadata": {
  "kernelspec": {
   "display_name": "Python 3 (ipykernel)",
   "language": "python",
   "name": "python3"
  },
  "language_info": {
   "codemirror_mode": {
    "name": "ipython",
    "version": 3
   },
   "file_extension": ".py",
   "mimetype": "text/x-python",
   "name": "python",
   "nbconvert_exporter": "python",
   "pygments_lexer": "ipython3",
   "version": "3.9.9"
  }
 },
 "nbformat": 4,
 "nbformat_minor": 5
}
