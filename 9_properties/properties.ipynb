{
 "cells": [
  {
   "cell_type": "markdown",
   "id": "9aad5e96",
   "metadata": {},
   "source": [
    "# Properties\n",
    "\n",
    "We have focused mostly on energy and geometry calculations. However, various molecular properties can also be explored with quantum chemical methods. We will briefly discuss some properties that can be determined from quantum mechanical calculations. In addition to the ones mentioned here, we previously discussed rotational, vibrational, and electronic spectroscopies.\n",
    "\n",
    "## Electric Multipole Moments\n",
    "Multipole moments describe the charge distribution of the molecule. In Cartesian coordinates, the multipole moments are given by:\n",
    "\\begin{align}\n",
    "    \\langle \\textbf{x}^k \\textbf{y}^l \\textbf{z}^m \\rangle = \\sum_i^{\\rm atoms} Z_i x_i^k y_i^l z_i^m\n",
    "        - \\int \\Psi(\\textbf{r}) \\left ( \\sum_j^{\\rm electrons} x_j^k y_j^l z_j^m \\right ) \\Psi(\\textbf{r}) d \\textbf{r}\n",
    "\\end{align}\n",
    "where the sum of $k$, $l$, and $m$ determines the type of moment (0 = monopole, 1 = dipole, 2 = quadrupole, etc.). $Z_i$ is the nuclear charge of atom $i$. When the wavefunction is represented by a single Slater determinant, the above expression can be written as:\n",
    "\\begin{align}\n",
    "    \\langle \\textbf{x}^k \\textbf{y}^l \\textbf{z}^m \\rangle = \\sum_i^{\\rm atoms} Z_i x_i^k y_i^l z_i^m\n",
    "        -  \\sum_j^{\\rm electrons} \\int \\psi_j(\\textbf{r}_j) x_j^k y_j^l z_j^m  \\psi_j(\\textbf{r}_j) d \\textbf{r}\n",
    "\\end{align}\n",
    "where $\\psi_j$ are the molecular orbitals occupied by electron $j$.\n",
    "\n",
    "The simplet moment is the monopole moment ($k=l=m=0$), which is a single number, given by:\n",
    "\\begin{align}\n",
    "    \\langle \\textbf{1} \\rangle &= \\sum_i^{\\rm atoms} Z_i - \\sum_j^{\\rm electrons} \\int \\psi_j(\\textbf{r}_j) \\psi_j(\\textbf{r}_j) d \\textbf{r} \\\\\n",
    "                               &= \\sum_i^{\\rm atoms} Z_i - N\n",
    "\\end{align}\n",
    "where $N$ is the number of electrons. Clearly, the monopole moment is just the molecular charge.\n",
    "\n",
    "The dipole moment $\\mu$ is a vector of three components $\\mu_x$, $\\mu_y$, and $\\mu_z$ corresponding to which of $k$, $l$, and $m$ is set to one. The magnitude of the dipole moment\n",
    "\\begin{align}\n",
    "    \\langle \\mu \\rangle = \\sqrt{\\langle \\mu_x \\rangle^2 + \\langle \\mu_y \\rangle^2 + \\langle \\mu_z \\rangle^2}.\n",
    "\\end{align}\n",
    "The dipole moment describes the overall molecular polarity.\n",
    "\n",
    "Higher order moments can also be important. For example, the CO$_2$ molecular charge is zero because it is neutral while its dipole moment is also zero because of its symmetry. The smallest nonzero moment for CO$_2$ is the quadruple moment. One technical point, the multipole moments can depend on the specific choice of the origin. Only the ﬁrst non-zero electric moment is origin-independent. Thus, one must report the origin used for the calculation, which is typically the center of mass or the center of charge of the molecule.\n",
    "\n",
    "Why are multipole moments important? Because molecular interactions can be represented by a trunctaed multipole expansion if two molecules are far from each other. That is, the familiar picture of representing the electrostatic interaction in terms of charge-charge, charge-dipole, dipole-dipole, etc, interactions becomes rather accurate.\n",
    "\n",
    "A few of the lowest order multipole moments are typically reported by the quantum chemistry packages after any calculation. Higher order multipole moments can also be computed.\n",
    "\n",
    "We show below an example calculation for CO$_2$."
   ]
  },
  {
   "cell_type": "code",
   "execution_count": 1,
   "id": "276dbe2f",
   "metadata": {},
   "outputs": [],
   "source": [
    "import psi4\n",
    "\n",
    "psi4.set_output_file(\"output.dat\", True)\n",
    "\n",
    "mol = psi4.geometry(\"\"\"\n",
    "C 0.0000 0.0000  0.0000\n",
    "O 0.0000 0.0000  1.1621\n",
    "O 0.0000 0.0000 -1.1621\n",
    "\"\"\")\n",
    "e, wfn = psi4.energy(\"scf/cc-pvdz\", return_wfn=True)"
   ]
  },
  {
   "cell_type": "markdown",
   "id": "7ba372f7",
   "metadata": {},
   "source": [
    "The above calculation gives the following output:\n",
    "```\n",
    "Properties will be evaluated at   0.000000,   0.000000,   0.000000 [a0]\n",
    "\n",
    "Properties computed using the SCF density matrix\n",
    "\n",
    "  Nuclear Dipole Moment: [e a0]\n",
    "     X:     0.0000      Y:     0.0000      Z:     0.0000\n",
    "\n",
    "  Electronic Dipole Moment: [e a0]\n",
    "     X:     0.0000      Y:     0.0000      Z:     0.0000\n",
    "\n",
    "  Dipole Moment: [e a0]\n",
    "     X:     0.0000      Y:     0.0000      Z:     0.0000     Total:     0.0000\n",
    "\n",
    "  Dipole Moment: [D]\n",
    "     X:     0.0000      Y:     0.0000      Z:     0.0000     Total:     0.0000\n",
    "```\n",
    "As expected, the dipole moment is zero. To compute higher order multipole moments, we can do:"
   ]
  },
  {
   "cell_type": "code",
   "execution_count": 2,
   "id": "8f6c5c98",
   "metadata": {
    "scrolled": true
   },
   "outputs": [
    {
     "data": {
      "text/plain": [
       "{'CURRENT DIPOLE': <psi4.core.Matrix at 0x7f42784e3f90>,\n",
       " 'DIPOLE': <psi4.core.Matrix at 0x7f427c522cc0>,\n",
       " 'HEXADECAPOLE': <psi4.core.Matrix at 0x7f41daf47360>,\n",
       " 'OCTUPOLE': <psi4.core.Matrix at 0x7f41daf47220>,\n",
       " 'QUADRUPOLE': <psi4.core.Matrix at 0x7f41daf471d0>,\n",
       " 'SCF DIPOLE': <psi4.core.Matrix at 0x7f41daf47130>}"
      ]
     },
     "execution_count": 2,
     "metadata": {},
     "output_type": "execute_result"
    }
   ],
   "source": [
    "psi4.oeprop(wfn, \"MULTIPOLE(4)\") # Compute multipoles up to order 4\n",
    "wfn.array_variables()"
   ]
  },
  {
   "cell_type": "markdown",
   "id": "a5726104",
   "metadata": {},
   "source": [
    "```\n",
    "Properties will be evaluated at   0.000000,   0.000000,   0.000000 [a0]\n",
    "OEProp: No title given, name of density matrix used for the following properties is 'SCF density'\n",
    "\n",
    " Multipole Moments:\n",
    "\n",
    " ------------------------------------------------------------------------------------\n",
    "     Multipole             Electric (a.u.)       Nuclear  (a.u.)        Total (a.u.)\n",
    " ------------------------------------------------------------------------------------\n",
    "\n",
    " L = 1.  Multiply by 2.5417464519 to convert to Debye\n",
    " Dipole X            :          0.0000000            0.0000000            0.0000000\n",
    " Dipole Y            :          0.0000000            0.0000000            0.0000000\n",
    " Dipole Z            :          0.0000000            0.0000000            0.0000000\n",
    "\n",
    " L = 2.  Multiply by 1.3450342976 to convert to Debye.ang\n",
    " Quadrupole XX       :        -10.8038202            0.0000000          -10.8038202\n",
    " Quadrupole XY       :          0.0000000            0.0000000            0.0000000\n",
    " Quadrupole XZ       :          0.0000000            0.0000000            0.0000000\n",
    " Quadrupole YY       :        -10.8038202            0.0000000          -10.8038202\n",
    " Quadrupole YZ       :          0.0000000            0.0000000            0.0000000\n",
    " Quadrupole ZZ       :        -91.9332550           77.1622210          -14.7710340\n",
    " ```"
   ]
  },
  {
   "cell_type": "markdown",
   "id": "60a0f4c2",
   "metadata": {},
   "source": [
    "## Electrostatic Potential\n",
    "The molecular electrostatic potential is an experimental observable that can be computed as\n",
    "\\begin{align}\n",
    "    V_{\\rm MEP}(\\textbf{r}) = \\sum_k^{\\rm nuclei} \\frac{Z_k}{|\\textbf{r}-\\textbf{r}_k|} - \\int \\Psi(\\textbf{r}^\\prime) \\frac{1}{|\\textbf{r}-\\textbf{r}^\\prime|} \\Psi(\\textbf{r}^\\prime) d \\textbf{r}^\\prime.\n",
    "\\end{align}\n",
    "\n",
    "The electrostatic potential is useful for visualization because it shows regions of local polarity. This can be useful for qualitatively predicting molecular reactivity. Below we show the electrostatic potential for water and benzene."
   ]
  },
  {
   "cell_type": "code",
   "execution_count": 3,
   "id": "2f273187",
   "metadata": {},
   "outputs": [
    {
     "data": {
      "application/vnd.jupyter.widget-view+json": {
       "model_id": "4aea48fcd0284c35aa5e0a812307c030",
       "version_major": 2,
       "version_minor": 0
      },
      "text/plain": []
     },
     "metadata": {},
     "output_type": "display_data"
    },
    {
     "data": {
      "application/vnd.jupyter.widget-view+json": {
       "model_id": "cc266a58c8b74743a54c19795851567d",
       "version_major": 2,
       "version_minor": 0
      },
      "text/plain": [
       "NGLWidget()"
      ]
     },
     "metadata": {},
     "output_type": "display_data"
    }
   ],
   "source": [
    "import psi4\n",
    "import os\n",
    "import nglview as nv\n",
    "from IPython.display import display\n",
    "\n",
    "if not os.path.exists(\"h2o_cube_files\"):\n",
    "    os.mkdir(\"h2o_cube_files\")\n",
    "\n",
    "psi4.core.set_output_file('output.dat', True)\n",
    "\n",
    "mol = psi4.geometry(\"\"\"\n",
    "O 0.0000  0.0000  0.1173\n",
    "H 0.0000  0.7572 -0.4692\n",
    "H 0.0000 -0.7572 -0.4692\n",
    "\"\"\")\n",
    "\n",
    "e, wfn = psi4.energy(\"scf/sto-3g\", return_wfn=True)\n",
    "\n",
    "psi4.set_options({\n",
    "    'CUBEPROP_TASKS': [\"DENSITY\", \"ESP\"],\n",
    "    \"CUBEPROP_FILEPATH\": \"h2o_cube_files\"\n",
    "})\n",
    "\n",
    "psi4.cubeprop(wfn)\n",
    "\n",
    "view = nv.show_psi4(mol)\n",
    "c1 = view.add_component('h2o_cube_files/Dt.cube')\n",
    "c2 = view.add_component('h2o_cube_files/ESP.cube')\n",
    "c1.clear()\n",
    "c2.clear()\n",
    "\n",
    "c1.add_surface(color_scheme='volume', isolevelType=\"value\", isolevel = 0.005, color_volume=c2,\n",
    "               colorScale=\"spectral\", colorDomain=[-0.1, 0.1], opacity=0.5\n",
    ")\n",
    "\n",
    "display(view)"
   ]
  },
  {
   "cell_type": "code",
   "execution_count": 4,
   "id": "0e6978be",
   "metadata": {},
   "outputs": [
    {
     "data": {
      "application/vnd.jupyter.widget-view+json": {
       "model_id": "124673099aca4e09b30e9a6f502d6d9c",
       "version_major": 2,
       "version_minor": 0
      },
      "text/plain": [
       "NGLWidget()"
      ]
     },
     "metadata": {},
     "output_type": "display_data"
    }
   ],
   "source": [
    "import psi4\n",
    "import os\n",
    "import nglview as nv\n",
    "from IPython.display import display\n",
    "\n",
    "if not os.path.exists(\"phenol_cube_files\"):\n",
    "    os.mkdir(\"phenol_cube_files\")\n",
    "\n",
    "psi4.core.set_output_file('output.dat', True)\n",
    "\n",
    "mol = psi4.geometry(\"\"\"\n",
    "C    0.00000000  0.00000000  0.00000000\n",
    "C   -1.05411516 -0.95814481  0.00000000\n",
    "C   -0.75139499 -2.35010773  0.00000000\n",
    "C    0.60544034 -2.78392582  0.00000000\n",
    "C    1.65955550 -1.82578101  0.00000000\n",
    "C    1.35683533 -0.43381810  0.00000000\n",
    "H    2.16342397  0.29933588  0.00000000\n",
    "H    2.69777979 -2.15773027  0.00000000\n",
    "O    0.92420500 -4.24966424  0.00000000\n",
    "H    1.92432932 -4.56943188  0.00000000\n",
    "H   -1.55798363 -3.08326171  0.00000000\n",
    "H   -2.09233945 -0.62619555  0.00000000\n",
    "H   -0.23163565  1.06510325  0.00000000\n",
    "\"\"\")\n",
    "\n",
    "e, wfn = psi4.energy(\"scf/sto-3g\", return_wfn=True)\n",
    "\n",
    "psi4.set_options({\n",
    "    'CUBEPROP_TASKS': [\"DENSITY\", \"ESP\"],\n",
    "    \"CUBEPROP_FILEPATH\": \"phenol_cube_files\"\n",
    "})\n",
    "\n",
    "psi4.cubeprop(wfn)\n",
    "\n",
    "view = nv.show_psi4(mol)\n",
    "c1 = view.add_component('phenol_cube_files/Dt.cube')\n",
    "c2 = view.add_component('phenol_cube_files/ESP.cube')\n",
    "c1.clear()\n",
    "c2.clear()\n",
    "\n",
    "c1.add_surface(color_scheme='volume', isolevelType=\"value\", isolevel = 0.005, color_volume=c2,\n",
    "               colorScale=\"spectral\", colorDomain=[-0.1, 0.1], opacity=0.5\n",
    ")\n",
    "\n",
    "display(view)"
   ]
  },
  {
   "cell_type": "markdown",
   "id": "37d4fe82",
   "metadata": {},
   "source": [
    "## Partial Atomic Charges\n",
    "Partial atomic charges are a useful construct to explain molecular properties. In particular, partial charges are widely used in classical simulations to model electrostatic interactions, as will be discussed later. The concept of partial charges is not well-defined, and so there are many different charge models that can be used in different contexts. Partial charges can be broadly divided into four cateogries.\n",
    "\n",
    "### Class I Charges\n",
    "In class I charges, the charges are not determined from quantum mechanical calculations but rather based on some arbitrary or intutive approach. For example, the experimentally determined dipole moment or the tabulated electronegativity can be used to help assign the partial charges.\n",
    "\n",
    "### Class II Charges\n",
    "Class II charges are determined based on some arbitrary partitioning of the wavefunction using an orbital based scheme. The most famous of these charge models is the Mulliken charge model, which is based on the Mulliken population analysis. The Lodwin charge model is an improvement over the Mulliken model. The charges are determined based on the contribution of atom-centered basis functions to the wavefunction. Because of this, these two charge models are very sensitive to the choice of basis set. Furthermore, because these charge models are orbital-based, they are completely arbitrary. To illustrate this, consider a basis set with all basis functions centered on the oxygen atom of water and none centered on the hydrogen atoms. The energy and density can be described accurately provided that the basis set is sufficiently large. However, the predicted partial charges will be -2 for the oxygen and +1 for each of the hydrogen atoms because none of the basis functions is center around the hydrogen atoms.\n",
    "\n",
    "### Class III Charges\n",
    "Class III charges are determined based on the fitting of the atom-centered partial charges to some calculated experimentally observable property, such as the electron density or the electrostatic potential. For example, in the atom-in-molecule (AIM) method, the charges are assigned based on partitioning the density of the molecule according to a specific scheme. However, the values of the AIM charges are sometimes counterintuitive. For example, saturated hydrocarbons are predicted to have weakly positive carbon atoms and weakly negative hydrogen atoms, disagreeing with most other charge models.\n",
    "\n",
    "Fitting the partial atomic charges to the electrostatic potential is also a common scheme. It is particularly useful when the charges are used for computing intermolecular interactions. In this scheme, the partial charges are chosen such that the difference between the classical electrostatic potential \n",
    "\\begin{align}\n",
    "    V_{\\rm ESP}(\\textbf{r}) = \\sum_k^{\\rm nuclei} \\frac{q_k}{|\\textbf{r}-\\textbf{r}_k|}\n",
    "\\end{align}\n",
    "and the quantum electrostatic potential computed in a grid is minimized. Two popular schemes are the CHELP and the CHELPG models, where the latter is an improvement over the former.\n",
    "\n",
    "Another electrostatic potential scheme is the Merz-Kollman ESP scheme and the improved restrained electrostatic potential (RESP) model scheme. The latter scheme introduces a hyperbolic restraint term that improves the transferability of the charges between different molecules. Furthermore, the charge fitting can use input from different molecular conformation to minimize the geometric dependence of the charges.\n",
    "\n",
    "The main limitation of electrostatic potential-based model is that charges far from the surface are not well determined because their variation does not significantly affect the calculated electrostatic potential.\n",
    "\n",
    "### Class IV Charges\n",
    "While Class II and Class III charges are determined from computations, Class IV Charges are determined by semiempirical mapping of the aforementioned charges to some experimentally determined property, such as the dipole moment. Examples of this charge model are the CM1-CM3 models."
   ]
  },
  {
   "cell_type": "code",
   "execution_count": 5,
   "id": "3a43860d",
   "metadata": {},
   "outputs": [
    {
     "name": "stdout",
     "output_type": "stream",
     "text": [
      "Water charges (STO-3G) [[-0.36565353  0.18282676  0.18282676]]\n",
      "Water charges (cc-pVQZ) [[-0.52651917  0.26325958  0.26325958]]\n"
     ]
    }
   ],
   "source": [
    "# Calculate Mulliken charges\n",
    "import psi4\n",
    "\n",
    "psi4.core.set_output_file('output.dat', True)\n",
    "\n",
    "mol = psi4.geometry(\"\"\"\n",
    "O 0.0000  0.0000  0.1173\n",
    "H 0.0000  0.7572 -0.4692\n",
    "H 0.0000 -0.7572 -0.4692\n",
    "\"\"\")\n",
    "\n",
    "e, wfn = psi4.energy(\"scf/sto-3g\", return_wfn=True)\n",
    "psi4.oeprop(wfn, \"MULLIKEN_CHARGES\")\n",
    "print(\"Water charges (STO-3G)\", wfn.array_variable('MULLIKEN CHARGES').np)\n",
    "\n",
    "e, wfn = psi4.energy(\"scf/cc-pvqz\", return_wfn=True)\n",
    "psi4.oeprop(wfn, \"MULLIKEN_CHARGES\")\n",
    "print(\"Water charges (cc-pVQZ)\", wfn.array_variable('MULLIKEN CHARGES').np)"
   ]
  },
  {
   "cell_type": "markdown",
   "id": "a1790235",
   "metadata": {},
   "source": [
    "## Polarizability and Hyperpolarizability\n",
    "The dipole moment describes the permenant charge distribution of the molecule. However, in the presence of an electric field, the dipole moment will change. The electric polarizability $\\alpha$ describes this change:\n",
    "\\begin{align}\n",
    "    \\alpha = \\frac{\\partial \\mu}{\\partial \\textbf{E}}.\n",
    "\\end{align}\n",
    "Because both $\\mu$ and $\\textbf{E}$ are vector quantities, $\\alpha$ is a second-rank tensor. At higher electric field strengths, the hyperpolarizability $\\beta$ becomes important.\n",
    "\n",
    "Analogous magnetic properties, such as the magnetic moment and magnetic susceptibility can also be computed. "
   ]
  },
  {
   "cell_type": "code",
   "execution_count": 6,
   "id": "780324d7",
   "metadata": {},
   "outputs": [
    {
     "data": {
      "text/plain": [
       "array([[3.16915668, 0.        , 0.        ],\n",
       "       [0.        , 7.04270126, 0.        ],\n",
       "       [0.        , 0.        , 5.29021512]])"
      ]
     },
     "execution_count": 6,
     "metadata": {},
     "output_type": "execute_result"
    }
   ],
   "source": [
    "# Calculate polarizability\n",
    "import psi4\n",
    "\n",
    "psi4.core.set_output_file('output.dat', True)\n",
    "\n",
    "mol = psi4.geometry(\"\"\"\n",
    "O 0.0000  0.0000  0.1173\n",
    "H 0.0000  0.7572 -0.4692\n",
    "H 0.0000 -0.7572 -0.4692\n",
    "\"\"\")\n",
    "\n",
    "e, wfn = psi4.properties(\"ccsd/cc-pvdz\", properties=['polarizability'], return_wfn=True)\n",
    "wfn.array_variable('CCSD DIPOLE POLARIZABILITY TENSOR @ INF NM').np"
   ]
  },
  {
   "cell_type": "markdown",
   "id": "ebdce0ec",
   "metadata": {},
   "source": [
    "## NMR Spectra\n",
    "Nuclear magnetic resonance (NMR) spectroscopy is a widely used experimental technique. NMR chemical shifts can be determined computationally as being proportional to the second derivative of the energy with respect to the external magnetic field and the internal field of the nuclei. An origin, called gauge origin, must be specified during the computation. Artifacts associated with the gauge origin can be minimized by different approaches, such as using gauge-including atomic orbitals (GIAO).\n",
    "\n",
    "Experimental values of the NMR chemical shifts are often reported with respect to a given standard, e.g., tetramethyl-silane. To compare the computational results with the experimental results, the NMR chemical shifts of the standard can be calculated using a given theoretical method."
   ]
  },
  {
   "cell_type": "markdown",
   "id": "d9c20690",
   "metadata": {},
   "source": [
    "## Useful Resources\n",
    "\n",
    "- Cramer, C. J. *Essentials of Computational Chemistry: Theories and Models*, 2nd ed.; John Wiley & Sons: Chichester, England, 2004. (Chapter 9)\n",
    "- Jensen, F. *Introduction to Computational Chemistry*, 3rd ed.; John Wiley & Sons: Nashville, TN, 2017. (Chapters 10 and 11)"
   ]
  }
 ],
 "metadata": {
  "kernelspec": {
   "display_name": "Python 3 (ipykernel)",
   "language": "python",
   "name": "python3"
  },
  "language_info": {
   "codemirror_mode": {
    "name": "ipython",
    "version": 3
   },
   "file_extension": ".py",
   "mimetype": "text/x-python",
   "name": "python",
   "nbconvert_exporter": "python",
   "pygments_lexer": "ipython3",
   "version": "3.9.9"
  }
 },
 "nbformat": 4,
 "nbformat_minor": 5
}
